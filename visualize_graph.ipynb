{
 "cells": [
  {
   "cell_type": "markdown",
   "id": "da0a37c9",
   "metadata": {},
   "source": [
    "# Visualizing the Data Analysis LangGraph Application\n",
    "\n",
    "This notebook demonstrates how to visualize the graph structure of our LangGraph-based \n",
    "data analysis application using the ipykernel in VSCode.\n",
    "\n",
    "The visualization helps understand the workflow nodes and connections between them."
   ]
  },
  {
   "cell_type": "code",
   "execution_count": 1,
   "id": "c2cc4922",
   "metadata": {},
   "outputs": [],
   "source": [
    "# Import necessary libraries\n",
    "import sys\n",
    "from pathlib import Path\n",
    "from IPython.display import Image, display\n",
    "\n",
    "# Add parent directory to path to import our application modules\n",
    "current_dir = Path.cwd()\n",
    "if str(current_dir) not in sys.path:\n",
    "    sys.path.append(str(current_dir))\n",
    "\n",
    "# Import our application\n",
    "from my_agent import create_graph"
   ]
  },
  {
   "cell_type": "markdown",
   "id": "91811126",
   "metadata": {},
   "source": [
    "## Create and Visualize the Graph\n",
    "\n",
    "Now we'll create our application graph and visualize it using Graphviz."
   ]
  },
  {
   "cell_type": "code",
   "execution_count": 2,
   "id": "f2d66413",
   "metadata": {},
   "outputs": [
    {
     "name": "stdout",
     "output_type": "stream",
     "text": [
      "Graph nodes: {'__start__': Node(id='__start__', name='__start__', data=RunnablePassthrough(), metadata=None), 'get_schema': Node(id='get_schema', name='get_schema', data=get_schema(tags=None, recurse=True, explode_args=False, func_accepts_config=False, func_accepts={}), metadata=None), 'query_gen': Node(id='query_gen', name='query_gen', data=query_gen(tags=None, recurse=True, explode_args=False, func_accepts_config=False, func_accepts={}), metadata=None), 'execute_query': Node(id='execute_query', name='execute_query', data=execute_query(tags=None, recurse=True, explode_args=False, func_accepts_config=False, func_accepts={}), metadata=None), 'submit_final_answer': Node(id='submit_final_answer', name='submit_final_answer', data=submit_final_answer(tags=None, recurse=True, explode_args=False, func_accepts_config=False, func_accepts={}), metadata=None), 'save': Node(id='save', name='save', data=save(tags=None, recurse=True, explode_args=False, func_accepts_config=False, func_accepts={}), metadata=None), '__end__': Node(id='__end__', name='__end__', data=None, metadata=None)}\n",
      "Graph edges: [Edge(source='__start__', target='get_schema', data=None, conditional=False), Edge(source='execute_query', target='submit_final_answer', data=None, conditional=False), Edge(source='get_schema', target='query_gen', data=None, conditional=False), Edge(source='query_gen', target='execute_query', data=None, conditional=False), Edge(source='submit_final_answer', target='save', data=None, conditional=False), Edge(source='save', target='__end__', data=None, conditional=False)]\n"
     ]
    }
   ],
   "source": [
    "# Create the graph\n",
    "graph = create_graph()\n",
    "\n",
    "# Get the underlying graph object\n",
    "graph_obj = graph.get_graph()\n",
    "\n",
    "# Print some basic information about the graph\n",
    "print(f\"Graph nodes: {graph_obj.nodes}\")\n",
    "print(f\"Graph edges: {list(graph_obj.edges)}\")"
   ]
  },
  {
   "cell_type": "markdown",
   "id": "245181fd",
   "metadata": {},
   "source": [
    "## Alternative: Visualize Using Mermaid\n",
    "\n",
    "If Graphviz isn't working, we can also use Mermaid syntax to visualize our graph."
   ]
  },
  {
   "cell_type": "code",
   "execution_count": 3,
   "id": "6358fbaa",
   "metadata": {},
   "outputs": [
    {
     "name": "stdout",
     "output_type": "stream",
     "text": [
      "---\n",
      "config:\n",
      "  flowchart:\n",
      "    curve: linear\n",
      "---\n",
      "graph TD;\n",
      "\t__start__([<p>__start__</p>]):::first\n",
      "\tget_schema(get_schema)\n",
      "\tquery_gen(query_gen)\n",
      "\texecute_query(execute_query)\n",
      "\tsubmit_final_answer(submit_final_answer)\n",
      "\tsave(save)\n",
      "\t__end__([<p>__end__</p>]):::last\n",
      "\t__start__ --> get_schema;\n",
      "\texecute_query --> submit_final_answer;\n",
      "\tget_schema --> query_gen;\n",
      "\tquery_gen --> execute_query;\n",
      "\tsubmit_final_answer --> save;\n",
      "\tsave --> __end__;\n",
      "\tclassDef default fill:#f2f0ff,line-height:1.2\n",
      "\tclassDef first fill-opacity:0\n",
      "\tclassDef last fill:#bfb6fc\n",
      "\n"
     ]
    }
   ],
   "source": [
    "# Generate Mermaid syntax representation of the graph\n",
    "mermaid_syntax = graph_obj.draw_mermaid()\n",
    "print(mermaid_syntax)"
   ]
  },
  {
   "cell_type": "code",
   "execution_count": 4,
   "id": "18fbd2cb",
   "metadata": {},
   "outputs": [
    {
     "data": {
      "image/png": "[encoded data removed]",
      "text/plain": [
       "<IPython.core.display.Image object>"
      ]
     },
     "metadata": {},
     "output_type": "display_data"
    }
   ],
   "source": [
    "# Alternative: Using Mermaid.Ink API to render as PNG\n",
    "from langchain_core.runnables.graph import CurveStyle, MermaidDrawMethod, NodeStyles\n",
    "\n",
    "try:\n",
    "    # Generate and display a PNG visualization using Mermaid.Ink API\n",
    "    mermaid_png = graph_obj.draw_mermaid_png(\n",
    "        draw_method=MermaidDrawMethod.API,\n",
    "        curve_style=CurveStyle.LINEAR,\n",
    "        node_colors=NodeStyles(first=\"#ffdfba\", last=\"#baffc9\", default=\"#f2f0ff\")\n",
    "    )\n",
    "    display(Image(mermaid_png))\n",
    "except Exception as e:\n",
    "    print(f\"Error visualizing graph with Mermaid.Ink API: {e}\")\n",
    "    print(\"This error is common if API access is blocked or restricted.\")"
   ]
  }
 ],
 "metadata": {
  "kernelspec": {
   "display_name": "Python 3",
   "language": "python",
   "name": "python3"
  },
  "language_info": {
   "codemirror_mode": {
    "name": "ipython",
    "version": 3
   },
   "file_extension": ".py",
   "mimetype": "text/x-python",
   "name": "python",
   "nbconvert_exporter": "python",
   "pygments_lexer": "ipython3",
   "version": "3.11.9"
  }
 },
 "nbformat": 4,
 "nbformat_minor": 5
}
