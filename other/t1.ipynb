{
 "cells": [
  {
   "cell_type": "code",
   "execution_count": 3,
   "id": "77ecdf41",
   "metadata": {},
   "outputs": [],
   "source": [
    "import pandas as pd"
   ]
  },
  {
   "cell_type": "code",
   "execution_count": 1,
   "id": "7c41d9f9",
   "metadata": {},
   "outputs": [],
   "source": [
    "def format_result(result):\n",
    "    \"\"\"Format a pandas result into a string representation.\n",
    "    \n",
    "    This function handles the complexity of converting different pandas result types\n",
    "    into consistent, human-readable string formats. It implements special handling for:\n",
    "    \n",
    "    1. Single-value Series - returned as plain scalars without index\n",
    "    2. Single-cell DataFrames - collapsed to scalar values\n",
    "    3. Multi-row/column results - formatted as tables without index columns\n",
    "    \n",
    "    This consistent formatting is important for providing clear, predictable responses\n",
    "    to the user regardless of the internal data structures used.\n",
    "    \n",
    "    Args:\n",
    "        result: The pandas result object (DataFrame, Series, or other value)\n",
    "        \n",
    "    Returns:\n",
    "        str: A consistently formatted string representation of the result\n",
    "    \"\"\"\n",
    "    if isinstance(result, pd.Series):\n",
    "        # Return scalar directly for single-item Series\n",
    "        # This provides cleaner output for common aggregation operations\n",
    "        if len(result) == 1:\n",
    "            return str(result.iloc[0])\n",
    "        result_str = result.to_string(index=False)\n",
    "    elif isinstance(result, pd.DataFrame):\n",
    "        # Collapse to scalar for 1×1 DataFrames\n",
    "        # This simplifies results for queries that return a single value\n",
    "        if result.shape == (1, 1):\n",
    "            return str(result.iat[0, 0])\n",
    "        result_str = result.to_string(index=False)\n",
    "    else:\n",
    "        # For non-pandas types, just use string conversion\n",
    "        result_str = str(result)\n",
    "    \n",
    "    return result_str"
   ]
  },
  {
   "cell_type": "code",
   "execution_count": 4,
   "id": "85fb0c80",
   "metadata": {},
   "outputs": [
    {
     "name": "stdout",
     "output_type": "stream",
     "text": [
      "\n",
      "Example 3 - Single-cell DataFrame:\n",
      "100\n"
     ]
    }
   ],
   "source": [
    "df_single = pd.DataFrame([[100]], columns=['Value'])\n",
    "print(\"\\nExample 3 - Single-cell DataFrame:\")\n",
    "print(format_result(df_single))  # Output: 100"
   ]
  },
  {
   "cell_type": "code",
   "execution_count": 5,
   "id": "0042df56",
   "metadata": {},
   "outputs": [
    {
     "data": {
      "application/vnd.microsoft.datawrangler.viewer.v0+json": {
       "columns": [
        {
         "name": "index",
         "rawType": "int64",
         "type": "integer"
        },
        {
         "name": "Value",
         "rawType": "int64",
         "type": "integer"
        }
       ],
       "conversionMethod": "pd.DataFrame",
       "ref": "60a7c7cf-c754-4ec3-bc43-e98c1a2af4b2",
       "rows": [
        [
         "0",
         "100"
        ]
       ],
       "shape": {
        "columns": 1,
        "rows": 1
       }
      },
      "text/html": [
       "<div>\n",
       "<style scoped>\n",
       "    .dataframe tbody tr th:only-of-type {\n",
       "        vertical-align: middle;\n",
       "    }\n",
       "\n",
       "    .dataframe tbody tr th {\n",
       "        vertical-align: top;\n",
       "    }\n",
       "\n",
       "    .dataframe thead th {\n",
       "        text-align: right;\n",
       "    }\n",
       "</style>\n",
       "<table border=\"1\" class=\"dataframe\">\n",
       "  <thead>\n",
       "    <tr style=\"text-align: right;\">\n",
       "      <th></th>\n",
       "      <th>Value</th>\n",
       "    </tr>\n",
       "  </thead>\n",
       "  <tbody>\n",
       "    <tr>\n",
       "      <th>0</th>\n",
       "      <td>100</td>\n",
       "    </tr>\n",
       "  </tbody>\n",
       "</table>\n",
       "</div>"
      ],
      "text/plain": [
       "   Value\n",
       "0    100"
      ]
     },
     "execution_count": 5,
     "metadata": {},
     "output_type": "execute_result"
    }
   ],
   "source": [
    "df_single.head()"
   ]
  },
  {
   "cell_type": "code",
   "execution_count": 1,
   "id": "7ae022e6",
   "metadata": {},
   "outputs": [
    {
     "name": "stdout",
     "output_type": "stream",
     "text": [
      "Using head():\n",
      "    Name  Age         City\n",
      "0   John   28     New York\n",
      "1  Alice   34      Chicago\n",
      "2    Bob   45  Los Angeles\n",
      "3   Emma   29        Miami\n",
      "4  David   31      Seattle\n",
      "\n",
      "Direct display (in Jupyter this would render as a table):\n"
     ]
    },
    {
     "data": {
      "application/vnd.microsoft.datawrangler.viewer.v0+json": {
       "columns": [
        {
         "name": "index",
         "rawType": "int64",
         "type": "integer"
        },
        {
         "name": "Name",
         "rawType": "object",
         "type": "string"
        },
        {
         "name": "Age",
         "rawType": "int64",
         "type": "integer"
        },
        {
         "name": "City",
         "rawType": "object",
         "type": "string"
        }
       ],
       "conversionMethod": "pd.DataFrame",
       "ref": "b01376d6-9525-4cb0-8279-35054fb64612",
       "rows": [
        [
         "0",
         "John",
         "28",
         "New York"
        ],
        [
         "1",
         "Alice",
         "34",
         "Chicago"
        ],
        [
         "2",
         "Bob",
         "45",
         "Los Angeles"
        ],
        [
         "3",
         "Emma",
         "29",
         "Miami"
        ],
        [
         "4",
         "David",
         "31",
         "Seattle"
        ]
       ],
       "shape": {
        "columns": 3,
        "rows": 5
       }
      },
      "text/html": [
       "<div>\n",
       "<style scoped>\n",
       "    .dataframe tbody tr th:only-of-type {\n",
       "        vertical-align: middle;\n",
       "    }\n",
       "\n",
       "    .dataframe tbody tr th {\n",
       "        vertical-align: top;\n",
       "    }\n",
       "\n",
       "    .dataframe thead th {\n",
       "        text-align: right;\n",
       "    }\n",
       "</style>\n",
       "<table border=\"1\" class=\"dataframe\">\n",
       "  <thead>\n",
       "    <tr style=\"text-align: right;\">\n",
       "      <th></th>\n",
       "      <th>Name</th>\n",
       "      <th>Age</th>\n",
       "      <th>City</th>\n",
       "    </tr>\n",
       "  </thead>\n",
       "  <tbody>\n",
       "    <tr>\n",
       "      <th>0</th>\n",
       "      <td>John</td>\n",
       "      <td>28</td>\n",
       "      <td>New York</td>\n",
       "    </tr>\n",
       "    <tr>\n",
       "      <th>1</th>\n",
       "      <td>Alice</td>\n",
       "      <td>34</td>\n",
       "      <td>Chicago</td>\n",
       "    </tr>\n",
       "    <tr>\n",
       "      <th>2</th>\n",
       "      <td>Bob</td>\n",
       "      <td>45</td>\n",
       "      <td>Los Angeles</td>\n",
       "    </tr>\n",
       "    <tr>\n",
       "      <th>3</th>\n",
       "      <td>Emma</td>\n",
       "      <td>29</td>\n",
       "      <td>Miami</td>\n",
       "    </tr>\n",
       "    <tr>\n",
       "      <th>4</th>\n",
       "      <td>David</td>\n",
       "      <td>31</td>\n",
       "      <td>Seattle</td>\n",
       "    </tr>\n",
       "  </tbody>\n",
       "</table>\n",
       "</div>"
      ],
      "text/plain": [
       "    Name  Age         City\n",
       "0   John   28     New York\n",
       "1  Alice   34      Chicago\n",
       "2    Bob   45  Los Angeles\n",
       "3   Emma   29        Miami\n",
       "4  David   31      Seattle"
      ]
     },
     "metadata": {},
     "output_type": "display_data"
    },
    {
     "name": "stdout",
     "output_type": "stream",
     "text": [
      "\n",
      "Using to_string():\n",
      "    Name  Age         City\n",
      "0   John   28     New York\n",
      "1  Alice   34      Chicago\n",
      "2    Bob   45  Los Angeles\n",
      "3   Emma   29        Miami\n",
      "4  David   31      Seattle\n",
      "\n",
      "Using sample():\n",
      "    Name  Age         City\n",
      "4  David   31      Seattle\n",
      "2    Bob   45  Los Angeles\n"
     ]
    }
   ],
   "source": [
    "import pandas as pd\n",
    "\n",
    "# Create dummy DataFrame\n",
    "data = [(\"John\", 28, \"New York\"), \n",
    "        (\"Alice\", 34, \"Chicago\"), \n",
    "        (\"Bob\", 45, \"Los Angeles\"),\n",
    "        (\"Emma\", 29, \"Miami\"),\n",
    "        (\"David\", 31, \"Seattle\")]\n",
    "\n",
    "columns = [\"Name\", \"Age\", \"City\"]\n",
    "df_pandas = pd.DataFrame(data, columns=columns)\n",
    "\n",
    "# 1. head() - most similar to show()\n",
    "print(\"Using head():\")\n",
    "print(df_pandas.head())\n",
    "\n",
    "# 2. Direct display in Jupyter/IPython\n",
    "print(\"\\nDirect display (in Jupyter this would render as a table):\")\n",
    "display(df_pandas)  # Works in Jupyter/IPython\n",
    "\n",
    "# 3. to_string() for console output\n",
    "print(\"\\nUsing to_string():\")\n",
    "print(df_pandas.to_string())\n",
    "\n",
    "# 4. sample() for random rows\n",
    "print(\"\\nUsing sample():\")\n",
    "print(df_pandas.sample(2))  # Shows 2 random rows"
   ]
  },
  {
   "cell_type": "code",
   "execution_count": 2,
   "id": "5272b416",
   "metadata": {},
   "outputs": [
    {
     "name": "stdout",
     "output_type": "stream",
     "text": [
      "\n",
      "Using to_string():\n",
      "    Name  Age         City\n",
      "0   John   28     New York\n",
      "1  Alice   34      Chicago\n",
      "2    Bob   45  Los Angeles\n",
      "3   Emma   29        Miami\n",
      "4  David   31      Seattle\n"
     ]
    }
   ],
   "source": [
    "# 3. to_string() for console output\n",
    "print(\"\\nUsing to_string():\")\n",
    "print(df_pandas.to_string())"
   ]
  },
  {
   "cell_type": "code",
   "execution_count": null,
   "id": "2a110bc6",
   "metadata": {},
   "outputs": [],
   "source": []
  }
 ],
 "metadata": {
  "kernelspec": {
   "display_name": "prototype4a",
   "language": "python",
   "name": "python3"
  },
  "language_info": {
   "codemirror_mode": {
    "name": "ipython",
    "version": 3
   },
   "file_extension": ".py",
   "mimetype": "text/x-python",
   "name": "python",
   "nbconvert_exporter": "python",
   "pygments_lexer": "ipython3",
   "version": "3.11.9"
  }
 },
 "nbformat": 4,
 "nbformat_minor": 5
}
