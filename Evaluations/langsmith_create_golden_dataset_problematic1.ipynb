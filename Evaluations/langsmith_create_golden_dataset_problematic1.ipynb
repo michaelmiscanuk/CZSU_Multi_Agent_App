{
 "cells": [
  {
   "cell_type": "code",
   "execution_count": 2,
   "id": "a23d96bb",
   "metadata": {},
   "outputs": [
    {
     "name": "stdout",
     "output_type": "stream",
     "text": [
      "Dataset 'czsu agent problematic1' found with ID: be16fded-6640-48e6-b2cd-2c87fdc7dfbb\n",
      "Added 8 new examples to dataset 'czsu agent problematic1'.\n"
     ]
    }
   ],
   "source": [
    "from langsmith import Client\n",
    "from langsmith.utils import LangSmithNotFoundError\n",
    "\n",
    "# Your questions and answers\n",
    "# Define questions and answers for the golden dataset\n",
    "question_answers = {\n",
    "    # Basic Retrieval\n",
    "    \"What was the middle-period population count for Zlín Region?\": \"579562\",\n",
    "\n",
    "\n",
    "    # Comparisons\n",
    "    \"List regions where mid-period male population exceeded 300,000\":\n",
    "        \"Central Bohemia, Prague, South Moravia, Moravian-Silesia, Pilsner, South Bohemia, Olomouc, Ústí\",\n",
    "    \"Was there any quarter where Plzeň's women outnumbered men by >15,000?\":\n",
    "        \"No\",\n",
    "\n",
    "\n",
    "    # Aggregations\n",
    "    \"What was the maximum female population recorded in any region?\": \"743608\",\n",
    "    \"What was the average male population across all regions at period end?\": \"381994.5\",\n",
    "    \"Count how many regions had <500k total residents mid-period\": \"2\",\n",
    "\n",
    "\n",
    "    # Temporal/Deltas\n",
    "    \"What was South Bohemia's population change rate per month?\": \"-128.77 per month\",\n",
    "\n",
    "\n",
    "    # Demographic Ratios\n",
    "    \"Which region had the most balanced gender ratio at period end?\": \"Vysočina\",\n",
    "    \"What percentage of Pardubice region was female at mid-period?\": \"50.57%\",\n",
    "\n",
    "\n",
    "    # Complex Joins/Logic\n",
    "    \"List regions where women population decreased >1000\":\n",
    "        \"Ústí (1466), Moravian-Silesia (3299), Karlovarský kraj (1228), Liberecký kraj (1142), Plzeňský kraj (1073)\",\n",
    "\n",
    "\n",
    "    # Edge Cases\n",
    "\n",
    "}\n",
    "\n",
    "ls_client = Client()\n",
    "\n",
    "# Get or create dataset\n",
    "try:\n",
    "    dataset = ls_client.read_dataset(dataset_name=\"czsu agent problematic1\")\n",
    "    print(f\"Dataset '{dataset.name}' found with ID: {dataset.id}\")\n",
    "except LangSmithNotFoundError:\n",
    "    dataset = ls_client.create_dataset(\n",
    "        dataset_name=\"czsu agent problematic1\",\n",
    "        description=\"Dataset of Czech Statistical Office agent questions and answers.\"\n",
    "    )\n",
    "    print(f\"Dataset '{dataset.name}' created with ID: {dataset.id}\")\n",
    "\n",
    "# Fetch existing examples' questions to avoid duplicates\n",
    "existing_examples = ls_client.list_examples(dataset_id=dataset.id)\n",
    "existing_questions = set()\n",
    "for ex in existing_examples:\n",
    "    q = ex.inputs.get(\"question\")\n",
    "    if q:\n",
    "        existing_questions.add(q)\n",
    "\n",
    "# Prepare only new examples (filter out duplicates)\n",
    "new_examples = []\n",
    "for question, answer in question_answers.items():\n",
    "    if question not in existing_questions:\n",
    "        new_examples.append({\"inputs\": {\"question\": question}, \"outputs\": {\"answers\": answer}})\n",
    "\n",
    "if new_examples:\n",
    "    ls_client.create_examples(dataset_id=dataset.id, examples=new_examples)\n",
    "    print(f\"Added {len(new_examples)} new examples to dataset '{dataset.name}'.\")\n",
    "else:\n",
    "    print(\"No new examples to add; all questions already exist in the dataset.\")"
   ]
  }
 ],
 "metadata": {
  "kernelspec": {
   "display_name": "Python 3",
   "language": "python",
   "name": "python3"
  },
  "language_info": {
   "codemirror_mode": {
    "name": "ipython",
    "version": 3
   },
   "file_extension": ".py",
   "mimetype": "text/x-python",
   "name": "python",
   "nbconvert_exporter": "python",
   "pygments_lexer": "ipython3",
   "version": "3.11.9"
  }
 },
 "nbformat": 4,
 "nbformat_minor": 5
}
