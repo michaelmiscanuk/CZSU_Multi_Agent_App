{
 "cells": [
  {
   "cell_type": "code",
   "execution_count": 1,
   "id": "c0562cbe",
   "metadata": {},
   "outputs": [
    {
     "name": "stderr",
     "output_type": "stream",
     "text": [
      "c:\\Users\\retko\\anaconda3\\envs\\prototype4a\\Lib\\site-packages\\tqdm\\auto.py:21: TqdmWarning: IProgress not found. Please update jupyter and ipywidgets. See https://ipywidgets.readthedocs.io/en/stable/user_install.html\n",
      "  from .autonotebook import tqdm as notebook_tqdm\n"
     ]
    },
    {
     "name": "stdout",
     "output_type": "stream",
     "text": [
      "View the evaluation results for experiment: 'test1-a6986aba' at:\n",
      "https://smith.langchain.com/o/817120e4-bc86-484a-9c30-795e42f5bb9e/datasets/e585a306-7113-491d-ba41-bc03c09eb612/compare?selectedSessions=e77a3083-cfa6-4a0b-a7c4-c501396ec74b\n",
      "\n",
      "\n"
     ]
    },
    {
     "name": "stderr",
     "output_type": "stream",
     "text": [
      "0it [00:00, ?it/s]"
     ]
    },
    {
     "name": "stdout",
     "output_type": "stream",
     "text": [
      "AAAAAAAAAAAAAA\n",
      "AAAAAAAAAAAAAA\n",
      "AAAAAAAAAAAAAA\n",
      "AAAAAAAAAAAAAA\n",
      "AAAAAAAAAAAAAA\n",
      "AAAAAAAAAAAAAA\n",
      "AAAAAAAAAAAAAA\n",
      "AAAAAAAAAAAAAA\n",
      "AAAAAAAAAAAAAA\n",
      "AAAAAAAAAAAAAA\n"
     ]
    },
    {
     "name": "stderr",
     "output_type": "stream",
     "text": [
      "5it [00:09,  1.44s/it]"
     ]
    },
    {
     "name": "stdout",
     "output_type": "stream",
     "text": [
      "AAAAAAAAAAAAAA\n",
      "AAAAAAAAAAAAAA\n",
      "AAAAAAAAAAAAAA\n",
      "AAAAAAAAAAAAAA\n",
      "AAAAAAAAAAAAAA\n",
      "AAAAAAAAAAAAAA\n"
     ]
    },
    {
     "name": "stderr",
     "output_type": "stream",
     "text": [
      "7it [01:01, 10.76s/it]"
     ]
    },
    {
     "name": "stdout",
     "output_type": "stream",
     "text": [
      "AAAAAAAAAAAAAA\n",
      "AAAAAAAAAAAAAA\n"
     ]
    },
    {
     "name": "stderr",
     "output_type": "stream",
     "text": [
      "9it [01:06,  7.77s/it]"
     ]
    },
    {
     "name": "stdout",
     "output_type": "stream",
     "text": [
      "AAAAAAAAAAAAAA\n",
      "AAAAAAAAAAAAAA\n"
     ]
    },
    {
     "name": "stderr",
     "output_type": "stream",
     "text": [
      "11it [01:06,  5.29s/it]"
     ]
    },
    {
     "name": "stdout",
     "output_type": "stream",
     "text": [
      "AAAAAAAAAAAAAA\n"
     ]
    },
    {
     "name": "stderr",
     "output_type": "stream",
     "text": [
      "13it [01:11,  4.09s/it]"
     ]
    },
    {
     "name": "stdout",
     "output_type": "stream",
     "text": [
      "AAAAAAAAAAAAAA\n",
      "AAAAAAAAAAAAAA\n"
     ]
    },
    {
     "name": "stderr",
     "output_type": "stream",
     "text": [
      "14it [01:12,  3.19s/it]"
     ]
    },
    {
     "name": "stdout",
     "output_type": "stream",
     "text": [
      "AAAAAAAAAAAAAA\n"
     ]
    },
    {
     "name": "stderr",
     "output_type": "stream",
     "text": [
      "15it [02:04, 15.63s/it]"
     ]
    },
    {
     "name": "stdout",
     "output_type": "stream",
     "text": [
      "AAAAAAAAAAAAAA\n"
     ]
    },
    {
     "name": "stderr",
     "output_type": "stream",
     "text": [
      "16it [02:06, 11.86s/it]"
     ]
    },
    {
     "name": "stdout",
     "output_type": "stream",
     "text": [
      "AAAAAAAAAAAAAA\n"
     ]
    },
    {
     "name": "stderr",
     "output_type": "stream",
     "text": [
      "17it [02:07,  9.12s/it]"
     ]
    },
    {
     "name": "stdout",
     "output_type": "stream",
     "text": [
      "AAAAAAAAAAAAAA\n"
     ]
    },
    {
     "name": "stderr",
     "output_type": "stream",
     "text": [
      "18it [02:08,  6.63s/it]"
     ]
    },
    {
     "name": "stdout",
     "output_type": "stream",
     "text": [
      "AAAAAAAAAAAAAA\n"
     ]
    },
    {
     "name": "stderr",
     "output_type": "stream",
     "text": [
      "19it [02:08,  4.84s/it]"
     ]
    },
    {
     "name": "stdout",
     "output_type": "stream",
     "text": [
      "AAAAAAAAAAAAAA\n"
     ]
    },
    {
     "name": "stderr",
     "output_type": "stream",
     "text": [
      "Error running target function: Error code: 429 - {'error': {'code': '429', 'message': 'Requests to the ChatCompletions_Create Operation under Azure OpenAI API version 2024-05-01-preview have exceeded call rate limit of your current OpenAI S0 pricing tier. Please retry after 1 second. Please go here: https://aka.ms/oai/quotaincrease if you would like to further increase the default rate limit. For Free Account customers, upgrade to Pay as you Go here: https://aka.ms/429TrialUpgrade.'}}\n",
      "Traceback (most recent call last):\n",
      "  File \"c:\\Users\\retko\\anaconda3\\envs\\prototype4a\\Lib\\site-packages\\langsmith\\evaluation\\_arunner.py\", line 1244, in _aforward\n",
      "    await fn(\n",
      "  File \"c:\\Users\\retko\\anaconda3\\envs\\prototype4a\\Lib\\site-packages\\langsmith\\run_helpers.py\", line 524, in async_wrapper\n",
      "    function_result = await asyncio.create_task(  # type: ignore[call-arg]\n",
      "                      ^^^^^^^^^^^^^^^^^^^^^^^^^^^^^^^^^^^^^^^^^^^^^^^^^^^^\n",
      "  File \"c:\\Users\\retko\\AppData\\Local\\Temp\\ipykernel_23068\\1988489823.py\", line 109, in target_with_config\n",
      "    return await graph.ainvoke(state, config=config)\n",
      "           ^^^^^^^^^^^^^^^^^^^^^^^^^^^^^^^^^^^^^^^^^\n",
      "  File \"c:\\Users\\retko\\anaconda3\\envs\\prototype4a\\Lib\\site-packages\\langgraph\\pregel\\__init__.py\", line 2850, in ainvoke\n",
      "    async for chunk in self.astream(\n",
      "  File \"c:\\Users\\retko\\anaconda3\\envs\\prototype4a\\Lib\\site-packages\\langgraph\\pregel\\__init__.py\", line 2732, in astream\n",
      "    async for _ in runner.atick(\n",
      "  File \"c:\\Users\\retko\\anaconda3\\envs\\prototype4a\\Lib\\site-packages\\langgraph\\pregel\\runner.py\", line 283, in atick\n",
      "    await arun_with_retry(\n",
      "  File \"c:\\Users\\retko\\anaconda3\\envs\\prototype4a\\Lib\\site-packages\\langgraph\\pregel\\retry.py\", line 128, in arun_with_retry\n",
      "    return await task.proc.ainvoke(task.input, config)\n",
      "           ^^^^^^^^^^^^^^^^^^^^^^^^^^^^^^^^^^^^^^^^^^^\n",
      "  File \"c:\\Users\\retko\\anaconda3\\envs\\prototype4a\\Lib\\site-packages\\langgraph\\utils\\runnable.py\", line 672, in ainvoke\n",
      "    input = await asyncio.create_task(\n",
      "            ^^^^^^^^^^^^^^^^^^^^^^^^^^\n",
      "  File \"c:\\Users\\retko\\anaconda3\\envs\\prototype4a\\Lib\\site-packages\\langgraph\\utils\\runnable.py\", line 440, in ainvoke\n",
      "    ret = await self.afunc(*args, **kwargs)\n",
      "          ^^^^^^^^^^^^^^^^^^^^^^^^^^^^^^^^^\n",
      "  File \"e:\\OneDrive\\Knowledge Base\\0207_GenAI\\Code\\LangGraph\\testing_prototypes\\prototype4\\my_agent\\utils\\nodes.py\", line 165, in query_node\n",
      "    result = await llm_with_tools.ainvoke(prompt.format_messages(\n",
      "             ^^^^^^^^^^^^^^^^^^^^^^^^^^^^^^^^^^^^^^^^^^^^^^^^^^^^\n",
      "  File \"c:\\Users\\retko\\anaconda3\\envs\\prototype4a\\Lib\\site-packages\\langchain_core\\runnables\\base.py\", line 5429, in ainvoke\n",
      "    return await self.bound.ainvoke(\n",
      "           ^^^^^^^^^^^^^^^^^^^^^^^^^\n",
      "  File \"c:\\Users\\retko\\anaconda3\\envs\\prototype4a\\Lib\\site-packages\\langchain_core\\language_models\\chat_models.py\", line 391, in ainvoke\n",
      "    llm_result = await self.agenerate_prompt(\n",
      "                 ^^^^^^^^^^^^^^^^^^^^^^^^^^^^\n",
      "  File \"c:\\Users\\retko\\anaconda3\\envs\\prototype4a\\Lib\\site-packages\\langchain_core\\language_models\\chat_models.py\", line 957, in agenerate_prompt\n",
      "    return await self.agenerate(\n",
      "           ^^^^^^^^^^^^^^^^^^^^^\n",
      "  File \"c:\\Users\\retko\\anaconda3\\envs\\prototype4a\\Lib\\site-packages\\langchain_core\\language_models\\chat_models.py\", line 915, in agenerate\n",
      "    raise exceptions[0]\n",
      "  File \"c:\\Users\\retko\\anaconda3\\envs\\prototype4a\\Lib\\site-packages\\langchain_core\\language_models\\chat_models.py\", line 1083, in _agenerate_with_cache\n",
      "    result = await self._agenerate(\n",
      "             ^^^^^^^^^^^^^^^^^^^^^^\n",
      "  File \"c:\\Users\\retko\\anaconda3\\envs\\prototype4a\\Lib\\site-packages\\langchain_openai\\chat_models\\base.py\", line 1193, in _agenerate\n",
      "    response = await self.async_client.create(**payload)\n",
      "               ^^^^^^^^^^^^^^^^^^^^^^^^^^^^^^^^^^^^^^^^^\n",
      "  File \"c:\\Users\\retko\\anaconda3\\envs\\prototype4a\\Lib\\site-packages\\openai\\resources\\chat\\completions\\completions.py\", line 2028, in create\n",
      "    return await self._post(\n",
      "           ^^^^^^^^^^^^^^^^^\n",
      "  File \"c:\\Users\\retko\\anaconda3\\envs\\prototype4a\\Lib\\site-packages\\openai\\_base_client.py\", line 1742, in post\n",
      "    return await self.request(cast_to, opts, stream=stream, stream_cls=stream_cls)\n",
      "           ^^^^^^^^^^^^^^^^^^^^^^^^^^^^^^^^^^^^^^^^^^^^^^^^^^^^^^^^^^^^^^^^^^^^^^^\n",
      "  File \"c:\\Users\\retko\\anaconda3\\envs\\prototype4a\\Lib\\site-packages\\openai\\_base_client.py\", line 1549, in request\n",
      "    raise self._make_status_error_from_response(err.response) from None\n",
      "openai.RateLimitError: Error code: 429 - {'error': {'code': '429', 'message': 'Requests to the ChatCompletions_Create Operation under Azure OpenAI API version 2024-05-01-preview have exceeded call rate limit of your current OpenAI S0 pricing tier. Please retry after 1 second. Please go here: https://aka.ms/oai/quotaincrease if you would like to further increase the default rate limit. For Free Account customers, upgrade to Pay as you Go here: https://aka.ms/429TrialUpgrade.'}}\n",
      "During task with name 'query_gen' and id 'eed4434e-8b3c-210f-3ad3-4251f9093141'\n",
      "20it [02:12,  4.59s/it]"
     ]
    },
    {
     "name": "stdout",
     "output_type": "stream",
     "text": [
      "AAAAAAAAAAAAAA\n"
     ]
    },
    {
     "name": "stderr",
     "output_type": "stream",
     "text": [
      "30it [03:18,  6.60s/it]"
     ]
    },
    {
     "name": "stdout",
     "output_type": "stream",
     "text": [
      "Evaluation results: <AsyncExperimentResults test1-a6986aba>\n"
     ]
    },
    {
     "name": "stderr",
     "output_type": "stream",
     "text": [
      "\n"
     ]
    }
   ],
   "source": [
    "\"\"\"\n",
    "This script runs an evaluation of a LangGraph agent on a dataset using LangSmith's async evaluation API.\n",
    "It converts dataset examples into the agent's internal state format, invokes the agent graph with unique checkpointing,\n",
    "and uses a custom evaluator that leverages an LLM judge to compare the agent's output against reference answers.\n",
    "\n",
    "Key components:\n",
    "- example_to_state: converts dataset inputs to the agent's state format.\n",
    "- target_with_config: async wrapper to invoke the agent graph with checkpoint config.\n",
    "- correct: async evaluator function that prompts an LLM to judge correctness of the agent's answer.\n",
    "- aevaluate: runs the evaluation over the dataset with concurrency and experiment tracking.\n",
    "\"\"\"\n",
    "\n",
    "#==============================================================================\n",
    "# IMPORTS\n",
    "#==============================================================================\n",
    "import sys\n",
    "import os\n",
    "\n",
    "# Add the parent directory to the Python path so we can import the my_agent module\n",
    "parent_dir = os.path.abspath(os.path.join(os.getcwd(), '..'))\n",
    "if parent_dir not in sys.path:\n",
    "    sys.path.append(parent_dir)\n",
    "\n",
    "import uuid\n",
    "from langsmith import aevaluate\n",
    "from my_agent import create_graph\n",
    "from my_agent.utils.state import DataAnalysisState\n",
    "from my_agent.utils.models import get_azure_llm\n",
    "\n",
    "#==============================================================================\n",
    "# INITIALIZATION\n",
    "#==============================================================================\n",
    "# Get Model\n",
    "judge_llm = get_azure_llm(temperature=0.0)\n",
    "\n",
    "# Create the agent graph\n",
    "graph = create_graph()\n",
    "\n",
    "#==============================================================================\n",
    "# EVALUATION FUNCTIONS\n",
    "#==============================================================================\n",
    "async def correctness(outputs: dict, reference_outputs: dict) -> bool:\n",
    "    \"\"\"\n",
    "    Evaluator function that uses an LLM to determine if the actual answer contains all information\n",
    "    from the expected answer.\n",
    "\n",
    "    Args:\n",
    "        outputs (dict): The output dictionary from the agent, expected to contain a 'messages' list.\n",
    "        reference_outputs (dict): The reference outputs from the dataset, expected to have 'answers' key.\n",
    "\n",
    "    Returns:\n",
    "        bool: True if the LLM judge determines the answer is correct, False otherwise.\n",
    "    \"\"\"\n",
    "    if not outputs or \"messages\" not in outputs or not outputs[\"messages\"]:\n",
    "        return False\n",
    "        \n",
    "    actual_answer = outputs[\"messages\"][-1].content\n",
    "    expected_answer = reference_outputs.get(\"answers\", \"[NO EXPECTED ANSWER PROVIDED]\")\n",
    "    \n",
    "    instructions = (\n",
    "        \"Given an actual answer and an expected answer, determine whether\"\n",
    "        \" the actual answer contains all of the information in the\"\n",
    "        \" expected answer. Respond with 'CORRECT' if the actual answer\"\n",
    "        \" does contain all of the expected information and 'INCORRECT'\"\n",
    "        \" otherwise. Do not include anything else in your response.\"\n",
    "    )\n",
    "    user_msg = f\"ACTUAL ANSWER: {actual_answer}\\n\\nEXPECTED ANSWER: {expected_answer}\"\n",
    "    \n",
    "    response = await judge_llm.ainvoke(\n",
    "        [\n",
    "            {\"role\": \"system\", \"content\": instructions},\n",
    "            {\"role\": \"user\", \"content\": user_msg}\n",
    "        ]\n",
    "    )\n",
    "    return response.content.upper() == \"CORRECT\"\n",
    "\n",
    "#==============================================================================\n",
    "# STATE CONVERSION FUNCTIONS\n",
    "#==============================================================================\n",
    "def example_to_state(inputs: dict) -> dict:\n",
    "    \"\"\"\n",
    "    Converts dataset example inputs into the agent's internal DataAnalysisState format.\n",
    "\n",
    "    Args:\n",
    "        inputs (dict): Input dictionary from the dataset, expected to have 'question' key.\n",
    "\n",
    "    Returns:\n",
    "        DataAnalysisState: Initialized state object for the agent.\n",
    "    \"\"\"\n",
    "    return DataAnalysisState(\n",
    "        prompt=inputs['question'],\n",
    "        messages=[],\n",
    "        result=\"\",\n",
    "        iteration=0\n",
    "    )\n",
    "\n",
    "async def target_with_config(inputs: dict):\n",
    "    \"\"\"\n",
    "    Async wrapper to invoke the agent graph with a unique checkpoint thread_id in the config.\n",
    "\n",
    "    Args:\n",
    "        inputs (dict): Input dictionary from the dataset.\n",
    "\n",
    "    Returns:\n",
    "        dict: The output from the agent graph invocation, including 'messages'.\n",
    "    \"\"\"\n",
    "    state = example_to_state(inputs)\n",
    "    config = {\"configurable\": {\"thread_id\": str(uuid.uuid4())}}\n",
    "    return await graph.ainvoke(state, config=config)\n",
    "\n",
    "#==============================================================================\n",
    "# MAIN EVALUATION\n",
    "#==============================================================================\n",
    "experiment_results = await aevaluate(\n",
    "    target_with_config,\n",
    "    data=\"czsu agent\",\n",
    "    evaluators=[correctness],\n",
    "    max_concurrency=4,\n",
    "    experiment_prefix=\"test1\",\n",
    ")\n",
    "\n",
    "print(f\"Evaluation results: {experiment_results}\")\n"
   ]
  }
 ],
 "metadata": {
  "kernelspec": {
   "display_name": "prototype4a",
   "language": "python",
   "name": "python3"
  },
  "language_info": {
   "codemirror_mode": {
    "name": "ipython",
    "version": 3
   },
   "file_extension": ".py",
   "mimetype": "text/x-python",
   "name": "python",
   "nbconvert_exporter": "python",
   "pygments_lexer": "ipython3",
   "version": "3.11.9"
  }
 },
 "nbformat": 4,
 "nbformat_minor": 5
}
