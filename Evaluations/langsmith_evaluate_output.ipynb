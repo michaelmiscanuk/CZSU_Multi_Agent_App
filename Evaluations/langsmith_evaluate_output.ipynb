{
 "cells": [
  {
   "cell_type": "code",
   "execution_count": null,
   "id": "8feac19f",
   "metadata": {},
   "outputs": [],
   "source": [
    "from my_agent.utils.models import get_azure_llm\n",
    "\n",
    "judge_llm = get_azure_llm(temperature=0.0)\n",
    "\n",
    "async def correct(outputs: dict, reference_outputs: dict) -> bool:\n",
    "    instructions = (\n",
    "        \"Given an actual answer and an expected answer, determine whether\"\n",
    "        \" the actual answer contains all of the information in the\"\n",
    "        \" expected answer. Respond with 'CORRECT' if the actual answer\"\n",
    "        \" does contain all of the expected information and 'INCORRECT'\"\n",
    "        \" otherwise. Do not include anything else in your response.\"\n",
    "    )\n",
    "    # Our graph outputs a State dictionary, which in this case means\n",
    "    # we'll have a 'messages' key and the final message should\n",
    "    # be our actual answer.\n",
    "    actual_answer = outputs[\"messages\"][-1].content\n",
    "    expected_answer = reference_outputs[\"answer\"]\n",
    "    user_msg = (\n",
    "        f\"ACTUAL ANSWER: {actual_answer}\"\n",
    "        f\"\\n\\nEXPECTED ANSWER: {expected_answer}\"\n",
    "    )\n",
    "    response = await judge_llm.ainvoke(\n",
    "        [\n",
    "            {\"role\": \"system\", \"content\": instructions},\n",
    "            {\"role\": \"user\", \"content\": user_msg}\n",
    "        ]\n",
    "    )\n",
    "    return response.content.upper() == \"CORRECT\""
   ]
  },
  {
   "cell_type": "code",
   "execution_count": null,
   "id": "45ce45ac",
   "metadata": {},
   "outputs": [],
   "source": []
  },
  {
   "cell_type": "code",
   "execution_count": null,
   "id": "8591bfad",
   "metadata": {},
   "outputs": [],
   "source": []
  },
  {
   "cell_type": "code",
   "execution_count": null,
   "id": "6b1b4eaf",
   "metadata": {},
   "outputs": [],
   "source": []
  },
  {
   "cell_type": "code",
   "execution_count": null,
   "id": "7e9171e5",
   "metadata": {},
   "outputs": [],
   "source": []
  },
  {
   "cell_type": "code",
   "execution_count": null,
   "id": "71e02523",
   "metadata": {},
   "outputs": [],
   "source": []
  }
 ],
 "metadata": {
  "language_info": {
   "name": "python"
  }
 },
 "nbformat": 4,
 "nbformat_minor": 5
}
